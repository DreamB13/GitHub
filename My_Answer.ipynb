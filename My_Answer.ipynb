{
 "cells": [
  {
   "cell_type": "markdown",
   "metadata": {},
   "source": [
    "## 자료를 보면서 공부할 노트"
   ]
  },
  {
   "cell_type": "markdown",
   "metadata": {},
   "source": [
    "# 배열"
   ]
  },
  {
   "cell_type": "code",
   "execution_count": 1,
   "metadata": {},
   "outputs": [],
   "source": [
    "import numpy as np"
   ]
  },
  {
   "cell_type": "code",
   "execution_count": 24,
   "metadata": {},
   "outputs": [
    {
     "data": {
      "text/plain": [
       "array([0, 1, 2, 3, 4, 5, 6, 7, 8, 9])"
      ]
     },
     "execution_count": 24,
     "metadata": {},
     "output_type": "execute_result"
    }
   ],
   "source": [
    "arr = np.arange(10)\n",
    "# (0:5)같은거 안먹힘\n",
    "arr"
   ]
  },
  {
   "cell_type": "code",
   "execution_count": 5,
   "metadata": {},
   "outputs": [
    {
     "data": {
      "text/plain": [
       "array([0, 1, 2, 3, 4, 5, 6, 7, 8, 9])"
      ]
     },
     "execution_count": 5,
     "metadata": {},
     "output_type": "execute_result"
    }
   ],
   "source": [
    "arr = np.array([0,1,2,3,4,5,6,7,8,9])\n",
    "arr"
   ]
  },
  {
   "cell_type": "code",
   "execution_count": 7,
   "metadata": {},
   "outputs": [
    {
     "name": "stdout",
     "output_type": "stream",
     "text": [
      "<class 'numpy.ndarray'>\n",
      "int32\n"
     ]
    }
   ],
   "source": [
    "print(type(arr))\n",
    "print(arr.dtype)"
   ]
  },
  {
   "cell_type": "code",
   "execution_count": 16,
   "metadata": {},
   "outputs": [
    {
     "data": {
      "text/plain": [
       "array([[10, 20, 30, 40],\n",
       "       [50, 60, 70, 80]])"
      ]
     },
     "execution_count": 16,
     "metadata": {},
     "output_type": "execute_result"
    }
   ],
   "source": [
    "k = ([[10,20,30,40],[50,60,70,80]])\n",
    "k\n",
    "## np.array()  안에 배열"
   ]
  },
  {
   "cell_type": "code",
   "execution_count": 23,
   "metadata": {},
   "outputs": [
    {
     "name": "stdout",
     "output_type": "stream",
     "text": [
      "2 (2, 4) 8 int32\n"
     ]
    }
   ],
   "source": [
    "\"\"\"\n",
    "ndim : 배열의 차원\n",
    "shape : 배열의 크기(첫번째 리스트)\n",
    "size : 배열 제일 안쪽 요소 수\n",
    "\n",
    "\"\"\"\n",
    "print(k.ndim,\n",
    "k.shape,\n",
    "k.size,\n",
    "k.dtype\n",
    ")\n"
   ]
  },
  {
   "cell_type": "code",
   "execution_count": 25,
   "metadata": {},
   "outputs": [
    {
     "name": "stdout",
     "output_type": "stream",
     "text": [
      "3 5\n"
     ]
    }
   ],
   "source": [
    "a = np.array([1,2,3,4,5])\n",
    "print(\n",
    "    a[2],\n",
    "    a[-1],\n",
    ")"
   ]
  },
  {
   "cell_type": "code",
   "execution_count": 30,
   "metadata": {},
   "outputs": [
    {
     "name": "stdout",
     "output_type": "stream",
     "text": [
      "2 6 (2, 3)\n"
     ]
    }
   ],
   "source": [
    "b = np.array([[1,2,3],[4,5,6]])\n",
    "print(\n",
    "    b[0,1],\n",
    "    b[-1,-1],\n",
    "    b.shape \n",
    ")"
   ]
  },
  {
   "cell_type": "code",
   "execution_count": 31,
   "metadata": {},
   "outputs": [
    {
     "name": "stdout",
     "output_type": "stream",
     "text": [
      "[0 1 2 3 4] [6 7 8 9] [[0 1]\n",
      " [5 6]]\n"
     ]
    }
   ],
   "source": [
    "c = np.array([[0,1,2,3,4],\n",
    "              [5,6,7,8,9]])\n",
    "c\n",
    "print(\n",
    "    c[0, :],\n",
    "    c[1, 1:],\n",
    "    c[:2, :2]\n",
    ")"
   ]
  },
  {
   "cell_type": "code",
   "execution_count": 32,
   "metadata": {},
   "outputs": [
    {
     "name": "stdout",
     "output_type": "stream",
     "text": [
      "7\n",
      "14\n",
      "[6 7]\n",
      "[ 7 12]\n",
      "[[3 4]\n",
      " [8 9]]\n"
     ]
    }
   ],
   "source": [
    "m = np.array([[0,1,2,3,4],\n",
    "              [5,6,7,8,9],\n",
    "              [10,11,12,13,14]])\n",
    "\n",
    "#1. 이 행렬에서 값 7 을 인덱싱한다.\n",
    "print(m[1,2])\n",
    "#2. 이 행렬에서 값 14 을 인덱싱한다.\n",
    "print(m[-1,-1])\n",
    "#3. 이 행렬에서 배열 [6, 7] 을 슬라이싱한다.\n",
    "print(m[1,1:3])\n",
    "#4. 이 행렬에서 배열 [7, 12] 을 슬라이싱한다.\n",
    "print(m[1:,2])\n",
    "#5. 이 행렬에서 배열 [[3, 4], [8, 9]] 을 슬라이싱한다.\n",
    "print(m[:2,3:])"
   ]
  },
  {
   "cell_type": "code",
   "execution_count": 42,
   "metadata": {},
   "outputs": [
    {
     "name": "stdout",
     "output_type": "stream",
     "text": [
      "(3,4)\n",
      " [[ 0  1  2  3]\n",
      " [ 4  5  6  7]\n",
      " [ 8  9 10 11]]\n",
      "(4,-1)\n",
      " [[ 0  1  2]\n",
      " [ 3  4  5]\n",
      " [ 6  7  8]\n",
      " [ 9 10 11]]\n",
      "(2,-1,2)\n",
      " [[[ 0  1]\n",
      "  [ 2  3]\n",
      "  [ 4  5]]\n",
      "\n",
      " [[ 6  7]\n",
      "  [ 8  9]\n",
      "  [10 11]]]\n",
      ".flatten() :  [ 0  1  2  3  4  5  6  7  8  9 10 11]\n"
     ]
    }
   ],
   "source": [
    "\"\"\"배열 크기 변환\"\"\"\n",
    "a = np.arange(12)\n",
    "b = a.reshape(3,4)   # 4개씩 3개\n",
    "print(\"(3,4)\\n\",b)\n",
    "b = a.reshape(4, -1)   # -1 ==> 자동으로 채움\n",
    "print(\"(4,-1)\\n\",b)\n",
    "b = a.reshape(2,-1,2)\n",
    "print(\"(2,-1,2)\\n\",b)    # 2개씩 묶고 두개로 또 분리\n",
    "b = a.flatten()\n",
    "print(\".flatten() : \",b)   # 1차원으로 반환하는 복사본 ravel은 원본"
   ]
  },
  {
   "cell_type": "markdown",
   "metadata": {},
   "source": [
    "# 차원 축소 연산"
   ]
  },
  {
   "cell_type": "code",
   "execution_count": 43,
   "metadata": {},
   "outputs": [
    {
     "name": "stdout",
     "output_type": "stream",
     "text": [
      "np.sum() 21\n",
      ".sum() 21\n",
      "np.min(x) 1\n"
     ]
    }
   ],
   "source": [
    "x = np.array([1,2,3,4,5,6])\n",
    "# 총합\n",
    "z = np.sum(x)\n",
    "print(\"np.sum()\",z)\n",
    "i = x.sum()\n",
    "print(\".sum()\",i)\n",
    "j = np.min(x)\n",
    "print(\"np.min(x)\",j)\n",
    "\n",
    "\"\"\"\n",
    "np.sum()이 귀찮아도 처리 시간이 월등히 빠르다.\n",
    "all은 모두 참일 경우, any는 하나라도 참일 경우\n",
    "\"\"\"\n"
   ]
  },
  {
   "cell_type": "markdown",
   "metadata": {},
   "source": [
    "## Pandas"
   ]
  },
  {
   "cell_type": "markdown",
   "metadata": {},
   "source": [
    "# 패키지 불러오기 & 시리즈 클래스(Series Class)"
   ]
  },
  {
   "cell_type": "code",
   "execution_count": 12,
   "metadata": {},
   "outputs": [
    {
     "name": "stdout",
     "output_type": "stream",
     "text": [
      "0    4\n",
      "1    2\n",
      "2   -6\n",
      "3    0\n",
      "dtype: int64\n",
      "[ 4  2 -6  0]\n",
      "RangeIndex(start=0, stop=4, step=1)\n",
      "int64\n",
      "a    4\n",
      "b    2\n",
      "c   -6\n",
      "d    1\n",
      "dtype: int64\n"
     ]
    }
   ],
   "source": [
    "import pandas as pd\n",
    "import numpy as np\n",
    "\n",
    "# 넘파이로 배열 생성하기\n",
    "arr = np.array([1,2,3,4,5])\n",
    "arr[0]\n",
    "# 팬더스로 시리즈 생성하기\n",
    "obj = pd.Series([4,2,-6,0])\n",
    "print(obj)\n",
    "print(obj.values) #값 불러오기\n",
    "print(obj.index)  #(인덱스의 시작값, 끝 값, 단계)\n",
    "print(obj.dtype)  #요소들의 타입\n",
    "\n",
    "# 인덱스 설정\n",
    "obj1 = pd.Series([4,2,-6,1], index=[\"a\",\"b\",\"c\",\"d\"])   # , 인덱스 = 배열\n",
    "\n",
    "print(obj1)"
   ]
  },
  {
   "cell_type": "code",
   "execution_count": 22,
   "metadata": {},
   "outputs": [
    {
     "name": "stdout",
     "output_type": "stream",
     "text": [
      "5234 6224\n",
      "서울    1024\n",
      "구미    5234\n",
      "대구    6224\n",
      "부산    1141\n",
      "dtype: int64\n",
      "서울    1024\n",
      "부산    1141\n",
      "구미    5234\n",
      "dtype: int64\n"
     ]
    },
    {
     "name": "stderr",
     "output_type": "stream",
     "text": [
      "C:\\Users\\Public\\Documents\\ESTsoft\\CreatorTemp\\ipykernel_26692\\536662471.py:4: FutureWarning: Series.__getitem__ treating keys as positions is deprecated. In a future version, integer keys will always be treated as labels (consistent with DataFrame behavior). To access a value by position, use `ser.iloc[pos]`\n",
      "  print(obj1[1], obj1[\"대구\"])\n",
      "C:\\Users\\Public\\Documents\\ESTsoft\\CreatorTemp\\ipykernel_26692\\536662471.py:6: FutureWarning: Series.__getitem__ treating keys as positions is deprecated. In a future version, integer keys will always be treated as labels (consistent with DataFrame behavior). To access a value by position, use `ser.iloc[pos]`\n",
      "  print(obj1[[0,3,1]])\n"
     ]
    }
   ],
   "source": [
    "obj1 = pd.Series([1024,5234,6224,1141], index=[\"서울\", \"구미\", \"대구\", \"부산\"])\n",
    "\n",
    "# 시리즈에서 값 불러오기 = 객체[인덱스]   여러개 불러오는 경우 리스트로 불러옴\n",
    "print(obj1[1], obj1[\"대구\"])\n",
    "print(obj1[[\"서울\",\"대구\",\"부산\"]])\n",
    "print(obj1[[0,3,1]])"
   ]
  },
  {
   "cell_type": "markdown",
   "metadata": {},
   "source": [
    "# 시리즈 슬라이싱 & 수정,삭제"
   ]
  },
  {
   "cell_type": "code",
   "execution_count": 24,
   "metadata": {},
   "outputs": [
    {
     "name": "stdout",
     "output_type": "stream",
     "text": [
      "서울    1024\n",
      "구미    1234\n",
      "dtype: int64\n",
      "구미    1234\n",
      "대구    6224\n",
      "부산    1141\n",
      "dtype: int64\n",
      "서울    1024\n",
      "구미    1234\n",
      "대구    6224\n",
      "부산    1141\n",
      "dtype: int64\n"
     ]
    },
    {
     "data": {
      "text/plain": [
       "서울    1024\n",
       "대구    6224\n",
       "부산    1141\n",
       "dtype: int64"
      ]
     },
     "execution_count": 24,
     "metadata": {},
     "output_type": "execute_result"
    }
   ],
   "source": [
    "# 슬라이싱 할 경우엔 따로 리스트를 만들지 않고 바로 선언\n",
    "#  입력과 삭제도 인덱스만 입력\n",
    "\n",
    "print(obj1[0:2])\n",
    "print(obj1[\"구미\":\"부산\"])\n",
    "\n",
    "# 입력\n",
    "obj1[\"구미\"] = 1234\n",
    "print(obj1)\n",
    "\n",
    "del obj1[\"구미\"]\n",
    "obj1"
   ]
  },
  {
   "cell_type": "code",
   "execution_count": 26,
   "metadata": {},
   "outputs": [
    {
     "name": "stdout",
     "output_type": "stream",
     "text": [
      "Kim     35000\n",
      "Park    67000\n",
      "Joon    12000\n",
      "Choi     4000\n",
      "dtype: int64\n"
     ]
    },
    {
     "data": {
      "text/plain": [
       "Full Names\n",
       "Kim     35000\n",
       "Park    67000\n",
       "Joon    12000\n",
       "Choi     4000\n",
       "Name: People, dtype: int64"
      ]
     },
     "execution_count": 26,
     "metadata": {},
     "output_type": "execute_result"
    }
   ],
   "source": [
    "obj2 = {\"Kim\": 35000,\n",
    "        \"Park\": 67000,\n",
    "        \"Joon\": 12000,\n",
    "        \"Choi\": 4000}\n",
    "\n",
    "obj2 = pd.Series(obj2)\n",
    "print(obj2)\n",
    "\n",
    "obj2.name = \"People\"\n",
    "obj2.index.name = \"Full Names\"\n",
    "obj2"
   ]
  },
  {
   "cell_type": "markdown",
   "metadata": {},
   "source": [
    "# 데이터 프레임"
   ]
  }
 ],
 "metadata": {
  "kernelspec": {
   "display_name": "Python 3",
   "language": "python",
   "name": "python3"
  },
  "language_info": {
   "codemirror_mode": {
    "name": "ipython",
    "version": 3
   },
   "file_extension": ".py",
   "mimetype": "text/x-python",
   "name": "python",
   "nbconvert_exporter": "python",
   "pygments_lexer": "ipython3",
   "version": "3.11.9"
  }
 },
 "nbformat": 4,
 "nbformat_minor": 2
}
